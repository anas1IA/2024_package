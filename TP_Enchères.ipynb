{
  "nbformat": 4,
  "nbformat_minor": 0,
  "metadata": {
    "colab": {
      "provenance": [],
      "authorship_tag": "ABX9TyNHoClnTj3zhwi8M8L4D9JF",
      "include_colab_link": true
    },
    "kernelspec": {
      "name": "python3",
      "display_name": "Python 3"
    },
    "language_info": {
      "name": "python"
    }
  },
  "cells": [
    {
      "cell_type": "markdown",
      "metadata": {
        "id": "view-in-github",
        "colab_type": "text"
      },
      "source": [
        "<a href=\"https://colab.research.google.com/github/anas1IA/2024_package/blob/main/TP_Ench%C3%A8res.ipynb\" target=\"_parent\"><img src=\"https://colab.research.google.com/assets/colab-badge.svg\" alt=\"Open In Colab\"/></a>"
      ]
    },
    {
      "cell_type": "code",
      "source": [
        "import time\n",
        "import random\n",
        "import threading\n",
        "from typing import List, Optional\n",
        "\n",
        "class Produit:\n",
        "    def __init__(self, id: int, libelle: str, description: str, valeur: float):\n",
        "        self.id: int = id\n",
        "        self.libelle: str = libelle\n",
        "        self.description: str = description\n",
        "        self.valeur: float = round(valeur, 2)\n",
        "        self.min: float = round(valeur * 0.5, 2)\n",
        "\n",
        "class Auctioneer:\n",
        "    def __init__(self, produit: Produit):\n",
        "        self.produit: Produit = produit\n",
        "        self.prix_actuel: float = round(produit.min, 2)\n",
        "        self.id_meilleur_disant: Optional[int] = None\n",
        "        self.timer: float = time.time()\n",
        "        self.callback_timer: Optional[threading.Timer] = None\n",
        "        self.remaining_seconds: int = 3\n",
        "\n",
        "    def announce_current_bid(self) -> None:\n",
        "        if self.id_meilleur_disant is not None:\n",
        "            remaining_time: int = max(0, self.remaining_seconds)\n",
        "            print(f\"Offre actuelle de {round(self.prix_actuel, 2)} par l'enchérisseur {self.id_meilleur_disant}. | {remaining_time} secondes restantes.\")\n",
        "        self.callback_timer = threading.Timer(1.0, self.announce_current_bid)\n",
        "        self.remaining_seconds -= 1\n",
        "        self.callback_timer.start()\n",
        "\n",
        "    def start_auction(self, encherisseurs: List[Encherisseur]) -> None:\n",
        "        print(f\"Début de l'enchère pour le produit: {self.produit.libelle}\")\n",
        "        threads: List[threading.Thread] = [threading.Thread(target=self.run_auction, args=(encherisseur,)) for encherisseur in encherisseurs]\n",
        "        for thread in threads:\n",
        "            thread.start()\n",
        "        self.announce_current_bid()\n",
        "        for thread in threads:\n",
        "            thread.join()\n",
        "        if self.callback_timer:\n",
        "            self.callback_timer.cancel()\n",
        "        print(f\"Le produit {self.produit.libelle} a été vendu à l'enchérisseur {self.id_meilleur_disant} pour {round(self.prix_actuel, 2)}\")\n",
        "\n",
        "    def run_auction(self, encherisseur: 'Encherisseur') -> None:\n",
        "        while time.time() - self.timer < 3:\n",
        "            if self.id_meilleur_disant != encherisseur.id:\n",
        "                offre: float = encherisseur.bid(self.prix_actuel)\n",
        "                if offre > self.prix_actuel and time.time() - self.timer < 3:\n",
        "                    self.prix_actuel = round(offre, 2)\n",
        "                    self.id_meilleur_disant = encherisseur.id\n",
        "                    self.timer = time.time()\n",
        "                    print(f\"Nouvelle offre de {round(offre, 2)} par l'enchérisseur {encherisseur.id}.\")\n",
        "                    self.remaining_seconds = 3\n",
        "\n",
        "class Encherisseur:\n",
        "    def __init__(self, id: int, offre_max: float, augmentation: float, temps_reflexion: float):\n",
        "        self.id: int = id\n",
        "        self.offre_max: float = round(offre_max, 2)\n",
        "        self.augmentation: float = augmentation\n",
        "        self.temps_reflexion: float = temps_reflexion\n",
        "\n",
        "    def bid(self, prix_actuel: float) -> float:\n",
        "        time.sleep(self.temps_reflexion / 1000)\n",
        "        estimation: float = round(random.uniform(prix_actuel, self.offre_max), 2)\n",
        "        if estimation < prix_actuel:\n",
        "            return round(estimation + self.augmentation * estimation, 2)\n",
        "        else:\n",
        "            return estimation\n",
        "\n"
      ],
      "metadata": {
        "id": "cnTR5T958byy"
      },
      "execution_count": 38,
      "outputs": []
    },
    {
      "cell_type": "code",
      "source": [
        "# Simulation 1:\n",
        "produit1: Produit = Produit(1, 'Tablette', 'Une tablette de qualité', 1000)\n",
        "auctioneer1: Auctioneer = Auctioneer(produit1)\n",
        "encherisseurs1: List[Encherisseur] = [Encherisseur(i, round(random.uniform(produit1.min, produit1.valeur*2), 2), 0.01, random.uniform(100, 2950)) for i in range(3)]\n",
        "auctioneer1.start_auction(encherisseurs1)\n"
      ],
      "metadata": {
        "colab": {
          "base_uri": "https://localhost:8080/",
          "height": 0
        },
        "id": "CQG-WRU1TjZi",
        "outputId": "e9baf9e7-52bc-4d39-e0cc-7c08b94773a1"
      },
      "execution_count": 39,
      "outputs": [
        {
          "output_type": "stream",
          "name": "stdout",
          "text": [
            "Début de l'enchère pour le produit: Tablette\n",
            "Nouvelle offre de 903.9 par l'enchérisseur 2.\n",
            "Offre actuelle de 903.9 par l'enchérisseur 2. | 3 secondes restantes.\n",
            "Nouvelle offre de 1231.75 par l'enchérisseur 0.\n",
            "Offre actuelle de 1231.75 par l'enchérisseur 0. | 3 secondes restantes.\n",
            "Nouvelle offre de 1350.19 par l'enchérisseur 1.\n",
            "Offre actuelle de 1350.19 par l'enchérisseur 1. | 3 secondes restantes.\n",
            "Nouvelle offre de 1454.47 par l'enchérisseur 2.\n",
            "Offre actuelle de 1454.47 par l'enchérisseur 2. | 3 secondes restantes.\n",
            "Offre actuelle de 1454.47 par l'enchérisseur 2. | 2 secondes restantes.\n",
            "Nouvelle offre de 1498.98 par l'enchérisseur 0.\n",
            "Offre actuelle de 1498.98 par l'enchérisseur 0. | 3 secondes restantes.\n",
            "Nouvelle offre de 1509.95 par l'enchérisseur 2.\n",
            "Offre actuelle de 1509.95 par l'enchérisseur 2. | 3 secondes restantes.\n",
            "Offre actuelle de 1509.95 par l'enchérisseur 2. | 2 secondes restantes.\n",
            "Offre actuelle de 1509.95 par l'enchérisseur 2. | 1 secondes restantes.\n",
            "Nouvelle offre de 1548.49 par l'enchérisseur 0.\n",
            "Offre actuelle de 1548.49 par l'enchérisseur 0. | 3 secondes restantes.\n",
            "Offre actuelle de 1548.49 par l'enchérisseur 0. | 2 secondes restantes.\n",
            "Offre actuelle de 1548.49 par l'enchérisseur 0. | 1 secondes restantes.\n",
            "Offre actuelle de 1548.49 par l'enchérisseur 0. | 0 secondes restantes.\n",
            "Offre actuelle de 1548.49 par l'enchérisseur 0. | 0 secondes restantes.\n",
            "Le produit Tablette a été vendu à l'enchérisseur 0 pour 1548.49\n"
          ]
        }
      ]
    },
    {
      "cell_type": "markdown",
      "source": [
        "The Sigmoid function, denoted as $\\sigma(x)$, is defined as:\n",
        "$$\\sigma(x) = \\frac{1}{1 + e^{-x}}$$\n",
        "\n",
        "Backward Pass (Gradient):\n",
        "The derivative of $\\sigma(x)$ with respect to $x$ is:\n",
        "$$\\frac{\\sigma(x)}{\\partial x} = \\sigma(x)(1 - \\sigma(x))$$"
      ],
      "metadata": {
        "id": "WxPP9zz0p3FE"
      }
    },
    {
      "cell_type": "markdown",
      "source": [
        "I added `sigmoid f` as a activation function in nanotorch.nn.functional :\n",
        "$$\n",
        "def __init__(self) -> None:\n",
        "    super(Sigmoid, self).__init__(\n",
        "        active_func = F.sigmoid,\n",
        "        active_prime = lambda input: F.sigmoid(input)*(1 - F.sigmoid(input)))\n",
        "$$"
      ],
      "metadata": {
        "id": "4br2-03h3JND"
      }
    },
    {
      "cell_type": "code",
      "source": [
        "import math as ma\n",
        "\n",
        "def Sigmoid_Function(x):\n",
        "  return 1/(1+ ma.exp(-x))"
      ],
      "metadata": {
        "id": "iQyfcqHhp8m4"
      },
      "execution_count": 40,
      "outputs": []
    },
    {
      "cell_type": "code",
      "source": [],
      "metadata": {
        "id": "P4cCMhelq2bc"
      },
      "execution_count": null,
      "outputs": []
    }
  ]
}